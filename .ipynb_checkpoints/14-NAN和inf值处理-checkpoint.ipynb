{
 "cells": [
  {
   "cell_type": "code",
   "execution_count": 1,
   "metadata": {},
   "outputs": [],
   "source": [
    "import numpy as np"
   ]
  },
  {
   "cell_type": "code",
   "execution_count": 2,
   "metadata": {},
   "outputs": [
    {
     "data": {
      "text/plain": [
       "array([[2, 2, 8, 7, 2],\n",
       "       [6, 0, 7, 6, 1],\n",
       "       [2, 5, 3, 8, 4]])"
      ]
     },
     "execution_count": 2,
     "metadata": {},
     "output_type": "execute_result"
    }
   ],
   "source": [
    "data = np.random.randint(0,10,size=(3,5))\n",
    "data"
   ]
  },
  {
   "cell_type": "code",
   "execution_count": 3,
   "metadata": {},
   "outputs": [
    {
     "data": {
      "text/plain": [
       "array([[ 2., nan,  8.,  7.,  2.],\n",
       "       [ 6.,  0.,  7.,  6.,  1.],\n",
       "       [ 2.,  5.,  3.,  8.,  4.]])"
      ]
     },
     "execution_count": 3,
     "metadata": {},
     "output_type": "execute_result"
    }
   ],
   "source": [
    "data = data.astype(np.float)\n",
    "data[0,1] = np.NAN\n",
    "data"
   ]
  },
  {
   "cell_type": "code",
   "execution_count": 4,
   "metadata": {},
   "outputs": [
    {
     "name": "stderr",
     "output_type": "stream",
     "text": [
      "D:\\ProgramApp\\Anaconda3\\lib\\site-packages\\ipykernel_launcher.py:1: RuntimeWarning: divide by zero encountered in true_divide\n",
      "  \"\"\"Entry point for launching an IPython kernel.\n",
      "D:\\ProgramApp\\Anaconda3\\lib\\site-packages\\ipykernel_launcher.py:1: RuntimeWarning: invalid value encountered in true_divide\n",
      "  \"\"\"Entry point for launching an IPython kernel.\n"
     ]
    },
    {
     "data": {
      "text/plain": [
       "array([[inf, nan, inf, inf, inf],\n",
       "       [inf, nan, inf, inf, inf],\n",
       "       [inf, inf, inf, inf, inf]])"
      ]
     },
     "execution_count": 4,
     "metadata": {},
     "output_type": "execute_result"
    }
   ],
   "source": [
    "data/0"
   ]
  },
  {
   "cell_type": "code",
   "execution_count": 5,
   "metadata": {},
   "outputs": [
    {
     "data": {
      "text/plain": [
       "False"
      ]
     },
     "execution_count": 5,
     "metadata": {},
     "output_type": "execute_result"
    }
   ],
   "source": [
    "np.NAN == np.NAN"
   ]
  },
  {
   "cell_type": "code",
   "execution_count": 6,
   "metadata": {},
   "outputs": [
    {
     "data": {
      "text/plain": [
       "nan"
      ]
     },
     "execution_count": 6,
     "metadata": {},
     "output_type": "execute_result"
    }
   ],
   "source": [
    "data[0,1]*2"
   ]
  },
  {
   "cell_type": "code",
   "execution_count": 7,
   "metadata": {},
   "outputs": [
    {
     "data": {
      "text/plain": [
       "array([[ 2., nan,  8.,  7.,  2.],\n",
       "       [ 6.,  0., nan,  6.,  1.],\n",
       "       [ 2.,  5.,  3.,  8.,  4.]])"
      ]
     },
     "execution_count": 7,
     "metadata": {},
     "output_type": "execute_result"
    }
   ],
   "source": [
    "data[1,2] = np.NAN\n",
    "data"
   ]
  },
  {
   "cell_type": "code",
   "execution_count": 8,
   "metadata": {},
   "outputs": [
    {
     "data": {
      "text/plain": [
       "array([2., 8., 7., 2., 6., 0., 6., 1., 2., 5., 3., 8., 4.])"
      ]
     },
     "execution_count": 8,
     "metadata": {},
     "output_type": "execute_result"
    }
   ],
   "source": [
    "data[~np.isnan(data)]"
   ]
  },
  {
   "cell_type": "code",
   "execution_count": 10,
   "metadata": {},
   "outputs": [
    {
     "data": {
      "text/plain": [
       "array([[2., 5., 3., 8., 4.]])"
      ]
     },
     "execution_count": 10,
     "metadata": {},
     "output_type": "execute_result"
    }
   ],
   "source": [
    "lines = np.where(np.isnan(data))[0]\n",
    "np.delete(data,lines,axis=0)"
   ]
  },
  {
   "cell_type": "code",
   "execution_count": 23,
   "metadata": {},
   "outputs": [
    {
     "data": {
      "text/plain": [
       "array([148. , 122. , 123.5,  34. ,  56. ,  79. ])"
      ]
     },
     "execution_count": 23,
     "metadata": {},
     "output_type": "execute_result"
    }
   ],
   "source": [
    "scores = np.loadtxt(\"nan_scores.csv\",delimiter=\",\",skiprows=1,encoding=\"utf-8\",dtype=np.str)\n",
    "scores[scores == \"\"] = np.NAN\n",
    "scores1 = scores.astype(np.float)\n",
    "scores1[np.isnan(scores1)] = 0\n",
    "# 除了delete用axis=0表示行以外，其他的大部分函数都是axis=1来表示行。\n",
    "scores1.sum(axis=1)"
   ]
  },
  {
   "cell_type": "code",
   "execution_count": 30,
   "metadata": {},
   "outputs": [
    {
     "data": {
      "text/plain": [
       "array([[59. , 89. ],\n",
       "       [90. , 32. ],\n",
       "       [78. , 45.5],\n",
       "       [34. , 55.7],\n",
       "       [56.8, 56. ],\n",
       "       [23. , 56. ]])"
      ]
     },
     "execution_count": 30,
     "metadata": {},
     "output_type": "execute_result"
    }
   ],
   "source": [
    "scores2 = scores.astype(np.float)\n",
    "for x in range(scores2.shape[1]):\n",
    "    col = scores2[:,x]\n",
    "    non_nan_col = col[~np.isnan(col)]\n",
    "    mean = non_nan_col.mean()\n",
    "    col[np.isnan(col)] = mean\n",
    "scores2"
   ]
  },
  {
   "cell_type": "markdown",
   "metadata": {},
   "source": [
    "# 总结：\n",
    "1. NAN：Not A Number的简写，不是一个数字，但是他是属于浮点类型。\n",
    "2. INF：无穷大，在除数为0的情况下会出现INF。\n",
    "3. NAN和所有的值进行计算结果都是等于NAN\n",
    "4. NAN != NAN\n",
    "5. 可以通过np.isnan来判断某个值是不是NAN。\n",
    "6. 处理值的时候，可以通过删除NAN的形式进行处理，也可以通过值的替换进行处理。\n",
    "7. np.delete比较特殊，他通过axis=0来代表行，而其他大部分函数是通过axis=1来代表行。"
   ]
  }
 ],
 "metadata": {
  "kernelspec": {
   "display_name": "Python 3",
   "language": "python",
   "name": "python3"
  },
  "language_info": {
   "codemirror_mode": {
    "name": "ipython",
    "version": 3
   },
   "file_extension": ".py",
   "mimetype": "text/x-python",
   "name": "python",
   "nbconvert_exporter": "python",
   "pygments_lexer": "ipython3",
   "version": "3.7.1"
  }
 },
 "nbformat": 4,
 "nbformat_minor": 2
}
